{
 "cells": [
  {
   "cell_type": "code",
   "execution_count": 1,
   "metadata": {},
   "outputs": [],
   "source": [
    "import torch\n",
    "import transformers as ppb # pytorch transformers"
   ]
  },
  {
   "cell_type": "code",
   "execution_count": 2,
   "metadata": {},
   "outputs": [
    {
     "name": "stderr",
     "output_type": "stream",
     "text": [
      "Using TensorFlow backend.\n"
     ]
    }
   ],
   "source": [
    "from sklearn.svm import LinearSVC\n",
    "from sklearn.svm import SVC\n",
    "from sklearn.linear_model import LogisticRegression\n",
    "from sklearn.pipeline import Pipeline\n",
    "from sklearn.metrics import accuracy_score\n",
    "from sklearn.ensemble import RandomForestClassifier\n",
    "import pandas as pd\n",
    "from sklearn.model_selection import train_test_split\n",
    "from imblearn.over_sampling import SMOTE\n",
    "from sklearn.metrics import confusion_matrix,classification_report\n",
    "import matplotlib.pyplot as plt\n",
    "import numpy as np\n",
    "import scipy.sparse\n",
    "from nltk.corpus import stopwords\n",
    "from sklearn.ensemble import ExtraTreesClassifier\n",
    "from sklearn.model_selection import GridSearchCV\n",
    "import re\n",
    "import nltk\n",
    "from sklearn.feature_extraction.text import CountVectorizer\n",
    "from nltk.corpus import words\n",
    "from xgboost import XGBClassifier\n",
    "from sklearn.ensemble import AdaBoostClassifier\n",
    "from sklearn.neural_network import MLPClassifier\n",
    "from sklearn.preprocessing import LabelEncoder\n",
    "from sklearn.preprocessing import OneHotEncoder"
   ]
  },
  {
   "cell_type": "code",
   "execution_count": 3,
   "metadata": {},
   "outputs": [],
   "source": [
    "import warnings\n",
    "warnings.filterwarnings('ignore')\n",
    "import tqdm\n",
    "from ipywidgets import IntProgress"
   ]
  },
  {
   "cell_type": "code",
   "execution_count": 4,
   "metadata": {},
   "outputs": [
    {
     "data": {
      "text/html": [
       "<div>\n",
       "<style scoped>\n",
       "    .dataframe tbody tr th:only-of-type {\n",
       "        vertical-align: middle;\n",
       "    }\n",
       "\n",
       "    .dataframe tbody tr th {\n",
       "        vertical-align: top;\n",
       "    }\n",
       "\n",
       "    .dataframe thead th {\n",
       "        text-align: right;\n",
       "    }\n",
       "</style>\n",
       "<table border=\"1\" class=\"dataframe\">\n",
       "  <thead>\n",
       "    <tr style=\"text-align: right;\">\n",
       "      <th></th>\n",
       "      <th>sentiment</th>\n",
       "      <th>content</th>\n",
       "    </tr>\n",
       "  </thead>\n",
       "  <tbody>\n",
       "    <tr>\n",
       "      <th>0</th>\n",
       "      <td>empty</td>\n",
       "      <td>@tiffanylue i know  i was listenin to bad habi...</td>\n",
       "    </tr>\n",
       "    <tr>\n",
       "      <th>1</th>\n",
       "      <td>sadness</td>\n",
       "      <td>Layin n bed with a headache  ughhhh...waitin o...</td>\n",
       "    </tr>\n",
       "    <tr>\n",
       "      <th>2</th>\n",
       "      <td>sadness</td>\n",
       "      <td>Funeral ceremony...gloomy friday...</td>\n",
       "    </tr>\n",
       "    <tr>\n",
       "      <th>3</th>\n",
       "      <td>enthusiasm</td>\n",
       "      <td>wants to hang out with friends SOON!</td>\n",
       "    </tr>\n",
       "    <tr>\n",
       "      <th>4</th>\n",
       "      <td>neutral</td>\n",
       "      <td>@dannycastillo We want to trade with someone w...</td>\n",
       "    </tr>\n",
       "  </tbody>\n",
       "</table>\n",
       "</div>"
      ],
      "text/plain": [
       "    sentiment                                            content\n",
       "0       empty  @tiffanylue i know  i was listenin to bad habi...\n",
       "1     sadness  Layin n bed with a headache  ughhhh...waitin o...\n",
       "2     sadness                Funeral ceremony...gloomy friday...\n",
       "3  enthusiasm               wants to hang out with friends SOON!\n",
       "4     neutral  @dannycastillo We want to trade with someone w..."
      ]
     },
     "execution_count": 4,
     "metadata": {},
     "output_type": "execute_result"
    }
   ],
   "source": [
    "df = pd.read_csv('sa-emotions/train_data.csv', delimiter=',')\n",
    "df.head()"
   ]
  },
  {
   "cell_type": "code",
   "execution_count": 5,
   "metadata": {},
   "outputs": [],
   "source": [
    "# model_class, tokenizer_class, pretrained_weights = (ppb.BertModel, ppb.BertTokenizer, 'bert-base-uncased') #uncomment for BERT\n",
    "model_class, tokenizer_class, pretrained_weights = (ppb.DistilBertModel, ppb.DistilBertTokenizer, 'distilbert-base-uncased')"
   ]
  },
  {
   "cell_type": "code",
   "execution_count": 6,
   "metadata": {},
   "outputs": [],
   "source": [
    "tokenizer = tokenizer_class.from_pretrained(pretrained_weights)\n",
    "model = model_class.from_pretrained(pretrained_weights)"
   ]
  },
  {
   "cell_type": "code",
   "execution_count": 7,
   "metadata": {},
   "outputs": [],
   "source": [
    "def model_report(train_data,test_data,train_labels,test_labels):\n",
    "    lsvc = LinearSVC(random_state=0, tol=1e-5)\n",
    "    rf = RandomForestClassifier(n_estimators=100)\n",
    "    et = ExtraTreesClassifier(n_estimators=100, random_state=0)\n",
    "    xgb = XGBClassifier()\n",
    "    adb = AdaBoostClassifier(n_estimators=100, random_state=0)\n",
    "    models = {'LinearSVC':lsvc,'RandomForest':rf,'ExtraTrees':et,'XGBoost':xgb,'AdaBoost':adb}\n",
    "    for model_name, model in models.items():\n",
    "        model.fit(train_data, train_labels)\n",
    "        print(\"Accuracy for {} is {}\".format(model_name,accuracy_score(test_labels, model.predict(test_data))))\n",
    "        predicted = model.predict(test_data)\n",
    "        print(classification_report(test_labels,predicted))"
   ]
  },
  {
   "cell_type": "markdown",
   "metadata": {},
   "source": [
    "### Binary Classification"
   ]
  },
  {
   "cell_type": "code",
   "execution_count": 8,
   "metadata": {},
   "outputs": [],
   "source": [
    "df_bin = df.loc[(df['sentiment'] == 'sadness') | (df['sentiment'] == 'happiness')]"
   ]
  },
  {
   "cell_type": "code",
   "execution_count": 9,
   "metadata": {},
   "outputs": [
    {
     "data": {
      "text/html": [
       "<div>\n",
       "<style scoped>\n",
       "    .dataframe tbody tr th:only-of-type {\n",
       "        vertical-align: middle;\n",
       "    }\n",
       "\n",
       "    .dataframe tbody tr th {\n",
       "        vertical-align: top;\n",
       "    }\n",
       "\n",
       "    .dataframe thead th {\n",
       "        text-align: right;\n",
       "    }\n",
       "</style>\n",
       "<table border=\"1\" class=\"dataframe\">\n",
       "  <thead>\n",
       "    <tr style=\"text-align: right;\">\n",
       "      <th></th>\n",
       "      <th>sentiment</th>\n",
       "      <th>content</th>\n",
       "    </tr>\n",
       "  </thead>\n",
       "  <tbody>\n",
       "    <tr>\n",
       "      <th>1</th>\n",
       "      <td>sadness</td>\n",
       "      <td>Layin n bed with a headache  ughhhh...waitin o...</td>\n",
       "    </tr>\n",
       "    <tr>\n",
       "      <th>2</th>\n",
       "      <td>sadness</td>\n",
       "      <td>Funeral ceremony...gloomy friday...</td>\n",
       "    </tr>\n",
       "    <tr>\n",
       "      <th>6</th>\n",
       "      <td>sadness</td>\n",
       "      <td>I should be sleep, but im not! thinking about ...</td>\n",
       "    </tr>\n",
       "    <tr>\n",
       "      <th>8</th>\n",
       "      <td>sadness</td>\n",
       "      <td>@charviray Charlene my love. I miss you</td>\n",
       "    </tr>\n",
       "    <tr>\n",
       "      <th>9</th>\n",
       "      <td>sadness</td>\n",
       "      <td>@kelcouch I'm sorry  at least it's Friday?</td>\n",
       "    </tr>\n",
       "  </tbody>\n",
       "</table>\n",
       "</div>"
      ],
      "text/plain": [
       "  sentiment                                            content\n",
       "1   sadness  Layin n bed with a headache  ughhhh...waitin o...\n",
       "2   sadness                Funeral ceremony...gloomy friday...\n",
       "6   sadness  I should be sleep, but im not! thinking about ...\n",
       "8   sadness            @charviray Charlene my love. I miss you\n",
       "9   sadness         @kelcouch I'm sorry  at least it's Friday?"
      ]
     },
     "execution_count": 9,
     "metadata": {},
     "output_type": "execute_result"
    }
   ],
   "source": [
    "df_bin.head()"
   ]
  },
  {
   "cell_type": "code",
   "execution_count": 10,
   "metadata": {},
   "outputs": [],
   "source": [
    "def cleaner(tes):\n",
    "    REPLACE_NO_SPACE = re.compile(\"[.;:!\\'?,\\\"()\\[\\]]\")\n",
    "    REPLACE_U_NAME = re.compile(\"@[\\S]+\")\n",
    "    REPLACE_DIGITS = re.compile(\"\\d\")\n",
    "    REPLACE_W_SPACE = re.compile(\"_\")\n",
    "    tes[\"content\"] = tes[\"content\"].str.replace(REPLACE_NO_SPACE, '')\n",
    "    tes[\"content\"] = tes[\"content\"].str.replace(REPLACE_U_NAME,'')\n",
    "    tes[\"content\"] = tes[\"content\"].str.replace(REPLACE_DIGITS,'')\n",
    "    tes[\"content\"] = tes[\"content\"].str.replace(REPLACE_W_SPACE,'')\n",
    "    tes[\"content\"] = tes[\"content\"].str.lower()\n",
    "    return tes"
   ]
  },
  {
   "cell_type": "code",
   "execution_count": 11,
   "metadata": {},
   "outputs": [
    {
     "data": {
      "text/html": [
       "<div>\n",
       "<style scoped>\n",
       "    .dataframe tbody tr th:only-of-type {\n",
       "        vertical-align: middle;\n",
       "    }\n",
       "\n",
       "    .dataframe tbody tr th {\n",
       "        vertical-align: top;\n",
       "    }\n",
       "\n",
       "    .dataframe thead th {\n",
       "        text-align: right;\n",
       "    }\n",
       "</style>\n",
       "<table border=\"1\" class=\"dataframe\">\n",
       "  <thead>\n",
       "    <tr style=\"text-align: right;\">\n",
       "      <th></th>\n",
       "      <th>sentiment</th>\n",
       "      <th>content</th>\n",
       "    </tr>\n",
       "  </thead>\n",
       "  <tbody>\n",
       "    <tr>\n",
       "      <th>1</th>\n",
       "      <td>sadness</td>\n",
       "      <td>layin n bed with a headache  ughhhhwaitin on y...</td>\n",
       "    </tr>\n",
       "    <tr>\n",
       "      <th>2</th>\n",
       "      <td>sadness</td>\n",
       "      <td>funeral ceremonygloomy friday</td>\n",
       "    </tr>\n",
       "    <tr>\n",
       "      <th>6</th>\n",
       "      <td>sadness</td>\n",
       "      <td>i should be sleep but im not thinking about an...</td>\n",
       "    </tr>\n",
       "    <tr>\n",
       "      <th>8</th>\n",
       "      <td>sadness</td>\n",
       "      <td>charlene my love i miss you</td>\n",
       "    </tr>\n",
       "    <tr>\n",
       "      <th>9</th>\n",
       "      <td>sadness</td>\n",
       "      <td>im sorry  at least its friday</td>\n",
       "    </tr>\n",
       "  </tbody>\n",
       "</table>\n",
       "</div>"
      ],
      "text/plain": [
       "  sentiment                                            content\n",
       "1   sadness  layin n bed with a headache  ughhhhwaitin on y...\n",
       "2   sadness                      funeral ceremonygloomy friday\n",
       "6   sadness  i should be sleep but im not thinking about an...\n",
       "8   sadness                        charlene my love i miss you\n",
       "9   sadness                      im sorry  at least its friday"
      ]
     },
     "execution_count": 11,
     "metadata": {},
     "output_type": "execute_result"
    }
   ],
   "source": [
    "df_bin = cleaner(df_bin)\n",
    "df_bin.head()"
   ]
  },
  {
   "cell_type": "code",
   "execution_count": 12,
   "metadata": {},
   "outputs": [],
   "source": [
    "tokenized = df_bin['content'].apply((lambda x: tokenizer.encode(x, add_special_tokens=True)))"
   ]
  },
  {
   "cell_type": "code",
   "execution_count": 13,
   "metadata": {},
   "outputs": [],
   "source": [
    "X_train, X_test, y_train, y_test = train_test_split(tokenized, df_bin[\"sentiment\"], test_size=0.33, random_state=42)"
   ]
  },
  {
   "cell_type": "code",
   "execution_count": 14,
   "metadata": {},
   "outputs": [],
   "source": [
    "def ret_ipID(tokenized):\n",
    "    print(\"Shape of tokenized is {}\".format(tokenized.shape[0]))\n",
    "    max_len = 0\n",
    "    for i in tokenized.values:\n",
    "        if len(i) > max_len:\n",
    "            max_len = len(i)\n",
    "\n",
    "    padded = np.array([i + [0]*(max_len-len(i)) for i in tokenized.values])\n",
    "    print(\"Shape of padded is {}\".format(np.array(padded).shape))\n",
    "    return padded\n",
    "\n"
   ]
  },
  {
   "cell_type": "code",
   "execution_count": 15,
   "metadata": {},
   "outputs": [],
   "source": [
    "def ret_attnmask(padded):\n",
    "    attention_mask = np.where(padded != 0, 1, 0)\n",
    "    print(\"Shape of Attention mask is {}\".format(attention_mask.shape))\n",
    "    return torch.tensor(attention_mask)\n"
   ]
  },
  {
   "cell_type": "code",
   "execution_count": 16,
   "metadata": {},
   "outputs": [
    {
     "name": "stdout",
     "output_type": "stream",
     "text": [
      "Shape of tokenized is 5235\n",
      "Shape of padded is (5235, 51)\n",
      "Shape of tokenized is 2579\n",
      "Shape of padded is (2579, 45)\n"
     ]
    }
   ],
   "source": [
    "X_train_input_ids = ret_ipID(X_train)\n",
    "X_test_input_ids = ret_ipID(X_test)"
   ]
  },
  {
   "cell_type": "code",
   "execution_count": 17,
   "metadata": {},
   "outputs": [
    {
     "name": "stdout",
     "output_type": "stream",
     "text": [
      "Shape of Attention mask is (5235, 51)\n",
      "Shape of Attention mask is (2579, 45)\n"
     ]
    }
   ],
   "source": [
    "X_train_attentionMask = ret_attnmask(X_train_input_ids)\n",
    "X_test_attentionMask = ret_attnmask(X_test_input_ids)"
   ]
  },
  {
   "cell_type": "code",
   "execution_count": 18,
   "metadata": {},
   "outputs": [],
   "source": [
    "X_train_input_ids = torch.tensor(X_train_input_ids).to(torch.int64)\n",
    "X_test_input_ids = torch.tensor(X_test_input_ids).to(torch.int64)"
   ]
  },
  {
   "cell_type": "code",
   "execution_count": 20,
   "metadata": {},
   "outputs": [],
   "source": [
    "with torch.no_grad():\n",
    "    last_hidden_states_X_train = model(X_train_input_ids, attention_mask=X_train_attentionMask)"
   ]
  },
  {
   "cell_type": "code",
   "execution_count": 21,
   "metadata": {},
   "outputs": [],
   "source": [
    "with torch.no_grad():\n",
    "    last_hidden_states_X_test = model(X_test_input_ids, attention_mask=X_test_attentionMask)"
   ]
  },
  {
   "cell_type": "code",
   "execution_count": 22,
   "metadata": {},
   "outputs": [],
   "source": [
    "train_features = last_hidden_states_X_train[0][:,0,:].numpy()\n",
    "test_features = last_hidden_states_X_test[0][:,0,:].numpy()"
   ]
  },
  {
   "cell_type": "code",
   "execution_count": 25,
   "metadata": {},
   "outputs": [
    {
     "name": "stdout",
     "output_type": "stream",
     "text": [
      "best parameters:  {'C': 0.3637}\n",
      "best scrores:  0.8045845272206303\n"
     ]
    }
   ],
   "source": [
    "parameters = {'C': np.linspace(1, 0.0001, 100, 20)}\n",
    "grid_search = GridSearchCV(LogisticRegression(), parameters)\n",
    "grid_search.fit(train_features, y_train)\n",
    "\n",
    "print('best parameters: ', grid_search.best_params_)\n",
    "print('best scrores: ', grid_search.best_score_)"
   ]
  },
  {
   "cell_type": "code",
   "execution_count": 27,
   "metadata": {},
   "outputs": [
    {
     "data": {
      "text/plain": [
       "LogisticRegression(C=0.3637, class_weight=None, dual=False, fit_intercept=True,\n",
       "                   intercept_scaling=1, l1_ratio=None, max_iter=100,\n",
       "                   multi_class='auto', n_jobs=None, penalty='l2',\n",
       "                   random_state=None, solver='lbfgs', tol=0.0001, verbose=0,\n",
       "                   warm_start=False)"
      ]
     },
     "execution_count": 27,
     "metadata": {},
     "output_type": "execute_result"
    }
   ],
   "source": [
    "lr_clf = LogisticRegression(C = 0.3637)#from gridsearch\n",
    "lr_clf.fit(train_features, y_train)"
   ]
  },
  {
   "cell_type": "code",
   "execution_count": 28,
   "metadata": {},
   "outputs": [
    {
     "data": {
      "text/plain": [
       "0.8131058549825514"
      ]
     },
     "execution_count": 28,
     "metadata": {},
     "output_type": "execute_result"
    }
   ],
   "source": [
    "lr_clf.score(test_features, y_test)"
   ]
  },
  {
   "cell_type": "code",
   "execution_count": 29,
   "metadata": {
    "scrolled": true
   },
   "outputs": [
    {
     "name": "stdout",
     "output_type": "stream",
     "text": [
      "Accuracy for LinearSVC is 0.7863512989530826\n",
      "              precision    recall  f1-score   support\n",
      "\n",
      "   happiness       0.71      0.71      0.71       954\n",
      "     sadness       0.83      0.83      0.83      1625\n",
      "\n",
      "    accuracy                           0.79      2579\n",
      "   macro avg       0.77      0.77      0.77      2579\n",
      "weighted avg       0.79      0.79      0.79      2579\n",
      "\n",
      "Accuracy for RandomForest is 0.7584335013571152\n",
      "              precision    recall  f1-score   support\n",
      "\n",
      "   happiness       0.73      0.55      0.63       954\n",
      "     sadness       0.77      0.88      0.82      1625\n",
      "\n",
      "    accuracy                           0.76      2579\n",
      "   macro avg       0.75      0.72      0.72      2579\n",
      "weighted avg       0.75      0.76      0.75      2579\n",
      "\n",
      "Accuracy for ExtraTrees is 0.7576580069794494\n",
      "              precision    recall  f1-score   support\n",
      "\n",
      "   happiness       0.74      0.53      0.62       954\n",
      "     sadness       0.76      0.89      0.82      1625\n",
      "\n",
      "    accuracy                           0.76      2579\n",
      "   macro avg       0.75      0.71      0.72      2579\n",
      "weighted avg       0.75      0.76      0.75      2579\n",
      "\n",
      "Accuracy for XGBoost is 0.7813105854982552\n",
      "              precision    recall  f1-score   support\n",
      "\n",
      "   happiness       0.73      0.65      0.69       954\n",
      "     sadness       0.81      0.86      0.83      1625\n",
      "\n",
      "    accuracy                           0.78      2579\n",
      "   macro avg       0.77      0.75      0.76      2579\n",
      "weighted avg       0.78      0.78      0.78      2579\n",
      "\n",
      "Accuracy for AdaBoost is 0.7595967429236138\n",
      "              precision    recall  f1-score   support\n",
      "\n",
      "   happiness       0.69      0.65      0.67       954\n",
      "     sadness       0.80      0.83      0.81      1625\n",
      "\n",
      "    accuracy                           0.76      2579\n",
      "   macro avg       0.74      0.74      0.74      2579\n",
      "weighted avg       0.76      0.76      0.76      2579\n",
      "\n"
     ]
    }
   ],
   "source": [
    "model_report(train_features,test_features,y_train,y_test)"
   ]
  },
  {
   "cell_type": "code",
   "execution_count": 30,
   "metadata": {},
   "outputs": [],
   "source": [
    "from sklearn.neural_network import MLPClassifier\n",
    "from sklearn.metrics import accuracy_score"
   ]
  },
  {
   "cell_type": "code",
   "execution_count": 31,
   "metadata": {},
   "outputs": [],
   "source": [
    "clf = MLPClassifier(hidden_layer_sizes=(300,100,200), max_iter=500, alpha=0.0001,learning_rate = 'constant',\n",
    "                     solver='sgd', verbose=10,  random_state=21,tol=0.000000001)"
   ]
  },
  {
   "cell_type": "code",
   "execution_count": 32,
   "metadata": {
    "scrolled": true
   },
   "outputs": [
    {
     "name": "stdout",
     "output_type": "stream",
     "text": [
      "Iteration 1, loss = 0.67819170\n",
      "Iteration 2, loss = 0.66678044\n",
      "Iteration 3, loss = 0.66184893\n",
      "Iteration 4, loss = 0.65734052\n",
      "Iteration 5, loss = 0.65299706\n",
      "Iteration 6, loss = 0.64859521\n",
      "Iteration 7, loss = 0.64357400\n",
      "Iteration 8, loss = 0.63787338\n",
      "Iteration 9, loss = 0.63246560\n",
      "Iteration 10, loss = 0.62634204\n",
      "Iteration 11, loss = 0.61832177\n",
      "Iteration 12, loss = 0.61021003\n",
      "Iteration 13, loss = 0.60185079\n",
      "Iteration 14, loss = 0.59243138\n",
      "Iteration 15, loss = 0.58318839\n",
      "Iteration 16, loss = 0.57379004\n",
      "Iteration 17, loss = 0.56466785\n",
      "Iteration 18, loss = 0.55549149\n",
      "Iteration 19, loss = 0.54653817\n",
      "Iteration 20, loss = 0.53799373\n",
      "Iteration 21, loss = 0.53100231\n",
      "Iteration 22, loss = 0.52342365\n",
      "Iteration 23, loss = 0.51670107\n",
      "Iteration 24, loss = 0.51027516\n",
      "Iteration 25, loss = 0.50426131\n",
      "Iteration 26, loss = 0.49891881\n",
      "Iteration 27, loss = 0.49501747\n",
      "Iteration 28, loss = 0.48979155\n",
      "Iteration 29, loss = 0.48606166\n",
      "Iteration 30, loss = 0.48147815\n",
      "Iteration 31, loss = 0.47812362\n",
      "Iteration 32, loss = 0.47427264\n",
      "Iteration 33, loss = 0.47246965\n",
      "Iteration 34, loss = 0.46946436\n",
      "Iteration 35, loss = 0.46626498\n",
      "Iteration 36, loss = 0.46377004\n",
      "Iteration 37, loss = 0.46186403\n",
      "Iteration 38, loss = 0.46185032\n",
      "Iteration 39, loss = 0.45829614\n",
      "Iteration 40, loss = 0.45538503\n",
      "Iteration 41, loss = 0.45380954\n",
      "Iteration 42, loss = 0.45246230\n",
      "Iteration 43, loss = 0.44992751\n",
      "Iteration 44, loss = 0.44867475\n",
      "Iteration 45, loss = 0.44680719\n",
      "Iteration 46, loss = 0.44462941\n",
      "Iteration 47, loss = 0.44372014\n",
      "Iteration 48, loss = 0.44339543\n",
      "Iteration 49, loss = 0.44062597\n",
      "Iteration 50, loss = 0.43980267\n",
      "Iteration 51, loss = 0.43808249\n",
      "Iteration 52, loss = 0.43599577\n",
      "Iteration 53, loss = 0.43516760\n",
      "Iteration 54, loss = 0.43405171\n",
      "Iteration 55, loss = 0.43390766\n",
      "Iteration 56, loss = 0.43156445\n",
      "Iteration 57, loss = 0.43055366\n",
      "Iteration 58, loss = 0.43009961\n",
      "Iteration 59, loss = 0.42984998\n",
      "Iteration 60, loss = 0.42795211\n",
      "Iteration 61, loss = 0.42780817\n",
      "Iteration 62, loss = 0.42706556\n",
      "Iteration 63, loss = 0.42500963\n",
      "Iteration 64, loss = 0.42373092\n",
      "Iteration 65, loss = 0.42385682\n",
      "Iteration 66, loss = 0.42260043\n",
      "Iteration 67, loss = 0.42214116\n",
      "Iteration 68, loss = 0.42112166\n",
      "Iteration 69, loss = 0.42023253\n",
      "Iteration 70, loss = 0.41873294\n",
      "Iteration 71, loss = 0.41999755\n",
      "Iteration 72, loss = 0.41697319\n",
      "Iteration 73, loss = 0.41713143\n",
      "Iteration 74, loss = 0.41570245\n",
      "Iteration 75, loss = 0.41583901\n",
      "Iteration 76, loss = 0.41450307\n",
      "Iteration 77, loss = 0.41607619\n",
      "Iteration 78, loss = 0.41402313\n",
      "Iteration 79, loss = 0.41322190\n",
      "Iteration 80, loss = 0.41146310\n",
      "Iteration 81, loss = 0.41102761\n",
      "Iteration 82, loss = 0.41156425\n",
      "Iteration 83, loss = 0.41101503\n",
      "Iteration 84, loss = 0.40982606\n",
      "Iteration 85, loss = 0.40789039\n",
      "Iteration 86, loss = 0.40979377\n",
      "Iteration 87, loss = 0.40710001\n",
      "Iteration 88, loss = 0.40659857\n",
      "Iteration 89, loss = 0.40644561\n",
      "Iteration 90, loss = 0.40596331\n",
      "Iteration 91, loss = 0.40490456\n",
      "Iteration 92, loss = 0.40583200\n",
      "Iteration 93, loss = 0.40504356\n",
      "Iteration 94, loss = 0.40248773\n",
      "Iteration 95, loss = 0.40492067\n",
      "Iteration 96, loss = 0.40306901\n",
      "Iteration 97, loss = 0.40152021\n",
      "Iteration 98, loss = 0.40047392\n",
      "Iteration 99, loss = 0.40097329\n",
      "Iteration 100, loss = 0.40090644\n",
      "Iteration 101, loss = 0.39947842\n",
      "Iteration 102, loss = 0.39911776\n",
      "Iteration 103, loss = 0.39732384\n",
      "Iteration 104, loss = 0.40067537\n",
      "Iteration 105, loss = 0.39710047\n",
      "Iteration 106, loss = 0.39670956\n",
      "Iteration 107, loss = 0.39631530\n",
      "Iteration 108, loss = 0.39652874\n",
      "Iteration 109, loss = 0.39475097\n",
      "Iteration 110, loss = 0.39536289\n",
      "Iteration 111, loss = 0.39383124\n",
      "Iteration 112, loss = 0.39303238\n",
      "Iteration 113, loss = 0.39449578\n",
      "Iteration 114, loss = 0.39145707\n",
      "Iteration 115, loss = 0.39190713\n",
      "Iteration 116, loss = 0.39544767\n",
      "Iteration 117, loss = 0.38993941\n",
      "Iteration 118, loss = 0.39474763\n",
      "Iteration 119, loss = 0.39070929\n",
      "Iteration 120, loss = 0.38820014\n",
      "Iteration 121, loss = 0.38769498\n",
      "Iteration 122, loss = 0.38628781\n",
      "Iteration 123, loss = 0.38858527\n",
      "Iteration 124, loss = 0.38609006\n",
      "Iteration 125, loss = 0.38635902\n",
      "Iteration 126, loss = 0.38627799\n",
      "Iteration 127, loss = 0.38512156\n",
      "Iteration 128, loss = 0.38519260\n",
      "Iteration 129, loss = 0.38658594\n",
      "Iteration 130, loss = 0.38273795\n",
      "Iteration 131, loss = 0.38374002\n",
      "Iteration 132, loss = 0.38344660\n",
      "Iteration 133, loss = 0.38245873\n",
      "Iteration 134, loss = 0.38058654\n",
      "Iteration 135, loss = 0.37949556\n",
      "Iteration 136, loss = 0.38153374\n",
      "Iteration 137, loss = 0.37981562\n",
      "Iteration 138, loss = 0.37985312\n",
      "Iteration 139, loss = 0.37858030\n",
      "Iteration 140, loss = 0.37759616\n",
      "Iteration 141, loss = 0.38211392\n",
      "Iteration 142, loss = 0.38013713\n",
      "Iteration 143, loss = 0.37699467\n",
      "Iteration 144, loss = 0.37646625\n",
      "Iteration 145, loss = 0.37617989\n",
      "Iteration 146, loss = 0.37623512\n",
      "Iteration 147, loss = 0.37631813\n",
      "Iteration 148, loss = 0.37844425\n",
      "Iteration 149, loss = 0.37370913\n",
      "Iteration 150, loss = 0.37476992\n",
      "Iteration 151, loss = 0.37349510\n",
      "Iteration 152, loss = 0.37222329\n",
      "Iteration 153, loss = 0.37189797\n",
      "Iteration 154, loss = 0.37175653\n",
      "Iteration 155, loss = 0.37099588\n",
      "Iteration 156, loss = 0.37107303\n",
      "Iteration 157, loss = 0.37463947\n",
      "Iteration 158, loss = 0.37642066\n",
      "Iteration 159, loss = 0.36692900\n",
      "Iteration 160, loss = 0.36822101\n",
      "Iteration 161, loss = 0.36794209\n",
      "Iteration 162, loss = 0.36749992\n",
      "Iteration 163, loss = 0.37047845\n",
      "Iteration 164, loss = 0.36727280\n",
      "Iteration 165, loss = 0.36577613\n",
      "Iteration 166, loss = 0.36415071\n",
      "Iteration 167, loss = 0.36557477\n",
      "Iteration 168, loss = 0.36965788\n",
      "Iteration 169, loss = 0.36117294\n",
      "Iteration 170, loss = 0.36179912\n",
      "Iteration 171, loss = 0.36249789\n",
      "Iteration 172, loss = 0.36274953\n",
      "Iteration 173, loss = 0.36110020\n",
      "Iteration 174, loss = 0.36135589\n",
      "Iteration 175, loss = 0.36526549\n",
      "Iteration 176, loss = 0.36205683\n",
      "Iteration 177, loss = 0.35751266\n",
      "Iteration 178, loss = 0.35801632\n",
      "Iteration 179, loss = 0.36024358\n",
      "Iteration 180, loss = 0.35643623\n",
      "Iteration 181, loss = 0.35809833\n",
      "Iteration 182, loss = 0.36017690\n",
      "Iteration 183, loss = 0.35774097\n",
      "Iteration 184, loss = 0.35469165\n",
      "Iteration 185, loss = 0.35761920\n",
      "Iteration 186, loss = 0.35143758\n",
      "Iteration 187, loss = 0.35625121\n",
      "Iteration 188, loss = 0.35090048\n",
      "Iteration 189, loss = 0.35321450\n",
      "Iteration 190, loss = 0.35210921\n",
      "Iteration 191, loss = 0.36096193\n",
      "Iteration 192, loss = 0.35092211\n",
      "Iteration 193, loss = 0.35100778\n",
      "Iteration 194, loss = 0.35100201\n",
      "Iteration 195, loss = 0.35254307\n",
      "Iteration 196, loss = 0.34836333\n",
      "Iteration 197, loss = 0.34927733\n",
      "Iteration 198, loss = 0.34860577\n",
      "Iteration 199, loss = 0.34693347\n",
      "Iteration 200, loss = 0.35358973\n",
      "Iteration 201, loss = 0.35112042\n",
      "Iteration 202, loss = 0.34603706\n",
      "Iteration 203, loss = 0.34518555\n",
      "Iteration 204, loss = 0.34391809\n",
      "Iteration 205, loss = 0.34664770\n",
      "Iteration 206, loss = 0.34405214\n",
      "Iteration 207, loss = 0.34064130\n",
      "Iteration 208, loss = 0.34121942\n",
      "Iteration 209, loss = 0.34197976\n",
      "Iteration 210, loss = 0.34165759\n",
      "Iteration 211, loss = 0.35500562\n",
      "Iteration 212, loss = 0.33751924\n",
      "Iteration 213, loss = 0.33828386\n",
      "Iteration 214, loss = 0.33500382\n",
      "Iteration 215, loss = 0.34582436\n",
      "Iteration 216, loss = 0.33734163\n",
      "Iteration 217, loss = 0.33854618\n",
      "Iteration 218, loss = 0.33606356\n",
      "Iteration 219, loss = 0.33507544\n",
      "Iteration 220, loss = 0.33596679\n",
      "Iteration 221, loss = 0.34097865\n",
      "Iteration 222, loss = 0.33431785\n",
      "Iteration 223, loss = 0.33708755\n",
      "Iteration 224, loss = 0.33313891\n",
      "Iteration 225, loss = 0.33217975\n",
      "Iteration 226, loss = 0.34424147\n",
      "Iteration 227, loss = 0.33048058\n",
      "Iteration 228, loss = 0.32929553\n",
      "Iteration 229, loss = 0.32917134\n",
      "Iteration 230, loss = 0.33262486\n",
      "Iteration 231, loss = 0.32883997\n",
      "Iteration 232, loss = 0.32878319\n",
      "Iteration 233, loss = 0.32583702\n",
      "Iteration 234, loss = 0.32937722\n",
      "Iteration 235, loss = 0.33141658\n",
      "Iteration 236, loss = 0.33177402\n",
      "Iteration 237, loss = 0.32461600\n",
      "Iteration 238, loss = 0.32204543\n",
      "Iteration 239, loss = 0.32302775\n",
      "Iteration 240, loss = 0.32728530\n",
      "Iteration 241, loss = 0.32542415\n",
      "Iteration 242, loss = 0.32454737\n",
      "Iteration 243, loss = 0.31796704\n",
      "Iteration 244, loss = 0.31690405\n",
      "Iteration 245, loss = 0.32338231\n",
      "Iteration 246, loss = 0.32153966\n",
      "Iteration 247, loss = 0.32207157\n",
      "Iteration 248, loss = 0.32158287\n",
      "Iteration 249, loss = 0.32721456\n",
      "Iteration 250, loss = 0.32707198\n",
      "Iteration 251, loss = 0.31938310\n",
      "Iteration 252, loss = 0.31961983\n"
     ]
    },
    {
     "name": "stdout",
     "output_type": "stream",
     "text": [
      "Iteration 253, loss = 0.32589435\n",
      "Iteration 254, loss = 0.31889664\n",
      "Iteration 255, loss = 0.32988044\n",
      "Training loss did not improve more than tol=0.000000 for 10 consecutive epochs. Stopping.\n"
     ]
    }
   ],
   "source": [
    "clf.fit(train_features, y_train)\n",
    "y_pred = clf.predict(test_features)"
   ]
  },
  {
   "cell_type": "code",
   "execution_count": 33,
   "metadata": {},
   "outputs": [
    {
     "data": {
      "text/plain": [
       "0.7464133385032958"
      ]
     },
     "execution_count": 33,
     "metadata": {},
     "output_type": "execute_result"
    }
   ],
   "source": [
    "accuracy_score(y_test, y_pred)"
   ]
  },
  {
   "cell_type": "code",
   "execution_count": null,
   "metadata": {},
   "outputs": [],
   "source": []
  }
 ],
 "metadata": {
  "kernelspec": {
   "display_name": "Python 3",
   "language": "python",
   "name": "python3"
  },
  "language_info": {
   "codemirror_mode": {
    "name": "ipython",
    "version": 3
   },
   "file_extension": ".py",
   "mimetype": "text/x-python",
   "name": "python",
   "nbconvert_exporter": "python",
   "pygments_lexer": "ipython3",
   "version": "3.7.5"
  }
 },
 "nbformat": 4,
 "nbformat_minor": 2
}
