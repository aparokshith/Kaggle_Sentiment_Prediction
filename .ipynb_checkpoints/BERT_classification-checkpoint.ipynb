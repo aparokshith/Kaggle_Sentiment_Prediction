{
 "cells": [
  {
   "cell_type": "code",
   "execution_count": 1,
   "metadata": {},
   "outputs": [],
   "source": [
    "import torch\n",
    "import transformers as ppb # pytorch transformers"
   ]
  },
  {
   "cell_type": "code",
   "execution_count": 2,
   "metadata": {},
   "outputs": [
    {
     "name": "stderr",
     "output_type": "stream",
     "text": [
      "Using TensorFlow backend.\n"
     ]
    }
   ],
   "source": [
    "from sklearn.svm import LinearSVC\n",
    "from sklearn.svm import SVC\n",
    "from sklearn.linear_model import LogisticRegression\n",
    "from sklearn.pipeline import Pipeline\n",
    "from sklearn.metrics import accuracy_score\n",
    "from sklearn.ensemble import RandomForestClassifier\n",
    "import pandas as pd\n",
    "from sklearn.model_selection import train_test_split\n",
    "from imblearn.over_sampling import SMOTE\n",
    "from sklearn.metrics import confusion_matrix,classification_report\n",
    "import matplotlib.pyplot as plt\n",
    "import numpy as np\n",
    "import scipy.sparse\n",
    "from nltk.corpus import stopwords\n",
    "from sklearn.ensemble import ExtraTreesClassifier\n",
    "from sklearn.model_selection import GridSearchCV\n",
    "import re\n",
    "import nltk\n",
    "from sklearn.feature_extraction.text import CountVectorizer\n",
    "from nltk.corpus import words\n",
    "from xgboost import XGBClassifier\n",
    "from sklearn.ensemble import AdaBoostClassifier\n",
    "from sklearn.neural_network import MLPClassifier\n",
    "from sklearn.preprocessing import LabelEncoder\n",
    "from sklearn.preprocessing import OneHotEncoder"
   ]
  },
  {
   "cell_type": "code",
   "execution_count": 3,
   "metadata": {},
   "outputs": [],
   "source": [
    "import warnings\n",
    "warnings.filterwarnings('ignore')\n",
    "import tqdm\n",
    "from ipywidgets import IntProgress"
   ]
  },
  {
   "cell_type": "code",
   "execution_count": 4,
   "metadata": {},
   "outputs": [
    {
     "data": {
      "text/html": [
       "<div>\n",
       "<style scoped>\n",
       "    .dataframe tbody tr th:only-of-type {\n",
       "        vertical-align: middle;\n",
       "    }\n",
       "\n",
       "    .dataframe tbody tr th {\n",
       "        vertical-align: top;\n",
       "    }\n",
       "\n",
       "    .dataframe thead th {\n",
       "        text-align: right;\n",
       "    }\n",
       "</style>\n",
       "<table border=\"1\" class=\"dataframe\">\n",
       "  <thead>\n",
       "    <tr style=\"text-align: right;\">\n",
       "      <th></th>\n",
       "      <th>sentiment</th>\n",
       "      <th>content</th>\n",
       "    </tr>\n",
       "  </thead>\n",
       "  <tbody>\n",
       "    <tr>\n",
       "      <th>0</th>\n",
       "      <td>empty</td>\n",
       "      <td>@tiffanylue i know  i was listenin to bad habi...</td>\n",
       "    </tr>\n",
       "    <tr>\n",
       "      <th>1</th>\n",
       "      <td>sadness</td>\n",
       "      <td>Layin n bed with a headache  ughhhh...waitin o...</td>\n",
       "    </tr>\n",
       "    <tr>\n",
       "      <th>2</th>\n",
       "      <td>sadness</td>\n",
       "      <td>Funeral ceremony...gloomy friday...</td>\n",
       "    </tr>\n",
       "    <tr>\n",
       "      <th>3</th>\n",
       "      <td>enthusiasm</td>\n",
       "      <td>wants to hang out with friends SOON!</td>\n",
       "    </tr>\n",
       "    <tr>\n",
       "      <th>4</th>\n",
       "      <td>neutral</td>\n",
       "      <td>@dannycastillo We want to trade with someone w...</td>\n",
       "    </tr>\n",
       "  </tbody>\n",
       "</table>\n",
       "</div>"
      ],
      "text/plain": [
       "    sentiment                                            content\n",
       "0       empty  @tiffanylue i know  i was listenin to bad habi...\n",
       "1     sadness  Layin n bed with a headache  ughhhh...waitin o...\n",
       "2     sadness                Funeral ceremony...gloomy friday...\n",
       "3  enthusiasm               wants to hang out with friends SOON!\n",
       "4     neutral  @dannycastillo We want to trade with someone w..."
      ]
     },
     "execution_count": 4,
     "metadata": {},
     "output_type": "execute_result"
    }
   ],
   "source": [
    "df = pd.read_csv('sa-emotions/train_data.csv', delimiter=',')\n",
    "df.head()"
   ]
  },
  {
   "cell_type": "code",
   "execution_count": 5,
   "metadata": {},
   "outputs": [],
   "source": [
    "model_class, tokenizer_class, pretrained_weights = (ppb.BertModel, ppb.BertTokenizer, 'bert-base-uncased') #uncomment for BERT\n",
    "# model_class, tokenizer_class, pretrained_weights = (ppb.DistilBertModel, ppb.DistilBertTokenizer, 'distilbert-base-uncased')"
   ]
  },
  {
   "cell_type": "code",
   "execution_count": 6,
   "metadata": {},
   "outputs": [],
   "source": [
    "tokenizer = tokenizer_class.from_pretrained(pretrained_weights)\n",
    "model = model_class.from_pretrained(pretrained_weights)"
   ]
  },
  {
   "cell_type": "code",
   "execution_count": 7,
   "metadata": {},
   "outputs": [],
   "source": [
    "def model_report(train_data,test_data,train_labels,test_labels):\n",
    "    lsvc = LinearSVC(random_state=0, tol=1e-5)\n",
    "    rf = RandomForestClassifier(n_estimators=100)\n",
    "    et = ExtraTreesClassifier(n_estimators=100, random_state=0)\n",
    "    xgb = XGBClassifier()\n",
    "    adb = AdaBoostClassifier(n_estimators=100, random_state=0)\n",
    "    models = {'LinearSVC':lsvc,'RandomForest':rf,'ExtraTrees':et,'XGBoost':xgb,'AdaBoost':adb}\n",
    "    for model_name, model in models.items():\n",
    "        model.fit(train_data, train_labels)\n",
    "        print(\"Accuracy for {} is {}\".format(model_name,accuracy_score(test_labels, model.predict(test_data))))\n",
    "        predicted = model.predict(test_data)\n",
    "        print(classification_report(test_labels,predicted))"
   ]
  },
  {
   "cell_type": "markdown",
   "metadata": {},
   "source": [
    "## Binary Classification"
   ]
  },
  {
   "cell_type": "code",
   "execution_count": 8,
   "metadata": {},
   "outputs": [],
   "source": [
    "df_bin = df.loc[(df['sentiment'] == 'sadness') | (df['sentiment'] == 'happiness')]"
   ]
  },
  {
   "cell_type": "code",
   "execution_count": 9,
   "metadata": {},
   "outputs": [
    {
     "data": {
      "text/html": [
       "<div>\n",
       "<style scoped>\n",
       "    .dataframe tbody tr th:only-of-type {\n",
       "        vertical-align: middle;\n",
       "    }\n",
       "\n",
       "    .dataframe tbody tr th {\n",
       "        vertical-align: top;\n",
       "    }\n",
       "\n",
       "    .dataframe thead th {\n",
       "        text-align: right;\n",
       "    }\n",
       "</style>\n",
       "<table border=\"1\" class=\"dataframe\">\n",
       "  <thead>\n",
       "    <tr style=\"text-align: right;\">\n",
       "      <th></th>\n",
       "      <th>sentiment</th>\n",
       "      <th>content</th>\n",
       "    </tr>\n",
       "  </thead>\n",
       "  <tbody>\n",
       "    <tr>\n",
       "      <th>1</th>\n",
       "      <td>sadness</td>\n",
       "      <td>Layin n bed with a headache  ughhhh...waitin o...</td>\n",
       "    </tr>\n",
       "    <tr>\n",
       "      <th>2</th>\n",
       "      <td>sadness</td>\n",
       "      <td>Funeral ceremony...gloomy friday...</td>\n",
       "    </tr>\n",
       "    <tr>\n",
       "      <th>6</th>\n",
       "      <td>sadness</td>\n",
       "      <td>I should be sleep, but im not! thinking about ...</td>\n",
       "    </tr>\n",
       "    <tr>\n",
       "      <th>8</th>\n",
       "      <td>sadness</td>\n",
       "      <td>@charviray Charlene my love. I miss you</td>\n",
       "    </tr>\n",
       "    <tr>\n",
       "      <th>9</th>\n",
       "      <td>sadness</td>\n",
       "      <td>@kelcouch I'm sorry  at least it's Friday?</td>\n",
       "    </tr>\n",
       "  </tbody>\n",
       "</table>\n",
       "</div>"
      ],
      "text/plain": [
       "  sentiment                                            content\n",
       "1   sadness  Layin n bed with a headache  ughhhh...waitin o...\n",
       "2   sadness                Funeral ceremony...gloomy friday...\n",
       "6   sadness  I should be sleep, but im not! thinking about ...\n",
       "8   sadness            @charviray Charlene my love. I miss you\n",
       "9   sadness         @kelcouch I'm sorry  at least it's Friday?"
      ]
     },
     "execution_count": 9,
     "metadata": {},
     "output_type": "execute_result"
    }
   ],
   "source": [
    "df_bin.head()"
   ]
  },
  {
   "cell_type": "code",
   "execution_count": 10,
   "metadata": {},
   "outputs": [],
   "source": [
    "def cleaner(tes):\n",
    "    REPLACE_NO_SPACE = re.compile(\"[.;:!\\'?,\\\"()\\[\\]]\")\n",
    "    REPLACE_U_NAME = re.compile(\"@[\\S]+\")\n",
    "    REPLACE_DIGITS = re.compile(\"\\d\")\n",
    "    REPLACE_W_SPACE = re.compile(\"_\")\n",
    "    tes[\"content\"] = tes[\"content\"].str.replace(REPLACE_NO_SPACE, '')\n",
    "    tes[\"content\"] = tes[\"content\"].str.replace(REPLACE_U_NAME,'')\n",
    "    tes[\"content\"] = tes[\"content\"].str.replace(REPLACE_DIGITS,'')\n",
    "    tes[\"content\"] = tes[\"content\"].str.replace(REPLACE_W_SPACE,'')\n",
    "    tes[\"content\"] = tes[\"content\"].str.lower()\n",
    "    return tes"
   ]
  },
  {
   "cell_type": "code",
   "execution_count": 11,
   "metadata": {},
   "outputs": [
    {
     "data": {
      "text/html": [
       "<div>\n",
       "<style scoped>\n",
       "    .dataframe tbody tr th:only-of-type {\n",
       "        vertical-align: middle;\n",
       "    }\n",
       "\n",
       "    .dataframe tbody tr th {\n",
       "        vertical-align: top;\n",
       "    }\n",
       "\n",
       "    .dataframe thead th {\n",
       "        text-align: right;\n",
       "    }\n",
       "</style>\n",
       "<table border=\"1\" class=\"dataframe\">\n",
       "  <thead>\n",
       "    <tr style=\"text-align: right;\">\n",
       "      <th></th>\n",
       "      <th>sentiment</th>\n",
       "      <th>content</th>\n",
       "    </tr>\n",
       "  </thead>\n",
       "  <tbody>\n",
       "    <tr>\n",
       "      <th>1</th>\n",
       "      <td>sadness</td>\n",
       "      <td>layin n bed with a headache  ughhhhwaitin on y...</td>\n",
       "    </tr>\n",
       "    <tr>\n",
       "      <th>2</th>\n",
       "      <td>sadness</td>\n",
       "      <td>funeral ceremonygloomy friday</td>\n",
       "    </tr>\n",
       "    <tr>\n",
       "      <th>6</th>\n",
       "      <td>sadness</td>\n",
       "      <td>i should be sleep but im not thinking about an...</td>\n",
       "    </tr>\n",
       "    <tr>\n",
       "      <th>8</th>\n",
       "      <td>sadness</td>\n",
       "      <td>charlene my love i miss you</td>\n",
       "    </tr>\n",
       "    <tr>\n",
       "      <th>9</th>\n",
       "      <td>sadness</td>\n",
       "      <td>im sorry  at least its friday</td>\n",
       "    </tr>\n",
       "  </tbody>\n",
       "</table>\n",
       "</div>"
      ],
      "text/plain": [
       "  sentiment                                            content\n",
       "1   sadness  layin n bed with a headache  ughhhhwaitin on y...\n",
       "2   sadness                      funeral ceremonygloomy friday\n",
       "6   sadness  i should be sleep but im not thinking about an...\n",
       "8   sadness                        charlene my love i miss you\n",
       "9   sadness                      im sorry  at least its friday"
      ]
     },
     "execution_count": 11,
     "metadata": {},
     "output_type": "execute_result"
    }
   ],
   "source": [
    "df_bin = cleaner(df_bin)\n",
    "df_bin.head()"
   ]
  },
  {
   "cell_type": "code",
   "execution_count": 12,
   "metadata": {},
   "outputs": [],
   "source": [
    "tokenized = df_bin['content'].apply((lambda x: tokenizer.encode(x, add_special_tokens=True)))"
   ]
  },
  {
   "cell_type": "code",
   "execution_count": 13,
   "metadata": {},
   "outputs": [],
   "source": [
    "X_train, X_test, y_train, y_test = train_test_split(tokenized, df_bin[\"sentiment\"], test_size=0.33, random_state=42)"
   ]
  },
  {
   "cell_type": "code",
   "execution_count": 14,
   "metadata": {},
   "outputs": [],
   "source": [
    "def ret_ipID(tokenized):\n",
    "    print(\"Shape of tokenized is {}\".format(tokenized.shape[0]))\n",
    "    max_len = 0\n",
    "    for i in tokenized.values:\n",
    "        if len(i) > max_len:\n",
    "            max_len = len(i)\n",
    "\n",
    "    padded = np.array([i + [0]*(max_len-len(i)) for i in tokenized.values])\n",
    "    print(\"Shape of padded is {}\".format(np.array(padded).shape))\n",
    "    return padded\n",
    "\n"
   ]
  },
  {
   "cell_type": "code",
   "execution_count": 15,
   "metadata": {},
   "outputs": [],
   "source": [
    "def ret_attnmask(padded):\n",
    "    attention_mask = np.where(padded != 0, 1, 0)\n",
    "    print(\"Shape of Attention mask is {}\".format(attention_mask.shape))\n",
    "    return torch.tensor(attention_mask)\n"
   ]
  },
  {
   "cell_type": "code",
   "execution_count": 16,
   "metadata": {},
   "outputs": [
    {
     "name": "stdout",
     "output_type": "stream",
     "text": [
      "Shape of tokenized is 5235\n",
      "Shape of padded is (5235, 51)\n",
      "Shape of tokenized is 2579\n",
      "Shape of padded is (2579, 45)\n"
     ]
    }
   ],
   "source": [
    "X_train_input_ids = ret_ipID(X_train)\n",
    "X_test_input_ids = ret_ipID(X_test)"
   ]
  },
  {
   "cell_type": "code",
   "execution_count": 17,
   "metadata": {},
   "outputs": [
    {
     "name": "stdout",
     "output_type": "stream",
     "text": [
      "Shape of Attention mask is (5235, 51)\n",
      "Shape of Attention mask is (2579, 45)\n"
     ]
    }
   ],
   "source": [
    "X_train_attentionMask = ret_attnmask(X_train_input_ids)\n",
    "X_test_attentionMask = ret_attnmask(X_test_input_ids)"
   ]
  },
  {
   "cell_type": "code",
   "execution_count": 18,
   "metadata": {},
   "outputs": [],
   "source": [
    "X_train_input_ids = torch.tensor(X_train_input_ids).to(torch.int64)\n",
    "X_test_input_ids = torch.tensor(X_test_input_ids).to(torch.int64)"
   ]
  },
  {
   "cell_type": "code",
   "execution_count": 20,
   "metadata": {},
   "outputs": [],
   "source": [
    "with torch.no_grad():\n",
    "    last_hidden_states_X_train = model(X_train_input_ids, attention_mask=X_train_attentionMask)"
   ]
  },
  {
   "cell_type": "code",
   "execution_count": 21,
   "metadata": {},
   "outputs": [],
   "source": [
    "with torch.no_grad():\n",
    "    last_hidden_states_X_test = model(X_test_input_ids, attention_mask=X_test_attentionMask)"
   ]
  },
  {
   "cell_type": "code",
   "execution_count": 22,
   "metadata": {},
   "outputs": [],
   "source": [
    "train_features = last_hidden_states_X_train[0][:,0,:].numpy()\n",
    "test_features = last_hidden_states_X_test[0][:,0,:].numpy()"
   ]
  },
  {
   "cell_type": "code",
   "execution_count": 23,
   "metadata": {},
   "outputs": [
    {
     "name": "stdout",
     "output_type": "stream",
     "text": [
      "2579 2579 5235 5235\n"
     ]
    }
   ],
   "source": [
    "print(len(test_features), len(y_test),len(train_features),len(y_train))"
   ]
  },
  {
   "cell_type": "code",
   "execution_count": 24,
   "metadata": {},
   "outputs": [],
   "source": [
    "from sklearn.model_selection import GridSearchCV"
   ]
  },
  {
   "cell_type": "code",
   "execution_count": 25,
   "metadata": {
    "scrolled": true
   },
   "outputs": [
    {
     "name": "stdout",
     "output_type": "stream",
     "text": [
      "best parameters:  {'C': 0.11120000000000008}\n",
      "best scrores:  0.8021012416427888\n"
     ]
    }
   ],
   "source": [
    "parameters = {'C': np.linspace(1, 0.0001, 100, 20)}\n",
    "grid_search = GridSearchCV(LogisticRegression(), parameters)\n",
    "grid_search.fit(train_features, y_train)\n",
    "\n",
    "print('best parameters: ', grid_search.best_params_)\n",
    "print('best scrores: ', grid_search.best_score_)"
   ]
  },
  {
   "cell_type": "code",
   "execution_count": 26,
   "metadata": {},
   "outputs": [
    {
     "data": {
      "text/plain": [
       "LogisticRegression(C=0.1112, class_weight=None, dual=False, fit_intercept=True,\n",
       "                   intercept_scaling=1, l1_ratio=None, max_iter=100,\n",
       "                   multi_class='auto', n_jobs=None, penalty='l2',\n",
       "                   random_state=None, solver='lbfgs', tol=0.0001, verbose=0,\n",
       "                   warm_start=False)"
      ]
     },
     "execution_count": 26,
     "metadata": {},
     "output_type": "execute_result"
    }
   ],
   "source": [
    "lr_clf = LogisticRegression(C = 0.1112)# from GridSearch\n",
    "lr_clf.fit(train_features, y_train)"
   ]
  },
  {
   "cell_type": "code",
   "execution_count": 27,
   "metadata": {},
   "outputs": [
    {
     "data": {
      "text/plain": [
       "0.8119426134160528"
      ]
     },
     "execution_count": 27,
     "metadata": {},
     "output_type": "execute_result"
    }
   ],
   "source": [
    "lr_clf.score(test_features, y_test)"
   ]
  },
  {
   "cell_type": "code",
   "execution_count": 28,
   "metadata": {},
   "outputs": [
    {
     "name": "stdout",
     "output_type": "stream",
     "text": [
      "Accuracy for LinearSVC is 0.7836370686312524\n",
      "              precision    recall  f1-score   support\n",
      "\n",
      "   happiness       0.72      0.68      0.70       954\n",
      "     sadness       0.82      0.84      0.83      1625\n",
      "\n",
      "    accuracy                           0.78      2579\n",
      "   macro avg       0.77      0.76      0.77      2579\n",
      "weighted avg       0.78      0.78      0.78      2579\n",
      "\n",
      "Accuracy for RandomForest is 0.7530050407134549\n",
      "              precision    recall  f1-score   support\n",
      "\n",
      "   happiness       0.74      0.52      0.61       954\n",
      "     sadness       0.76      0.89      0.82      1625\n",
      "\n",
      "    accuracy                           0.75      2579\n",
      "   macro avg       0.75      0.70      0.71      2579\n",
      "weighted avg       0.75      0.75      0.74      2579\n",
      "\n",
      "Accuracy for ExtraTrees is 0.7452500969367972\n",
      "              precision    recall  f1-score   support\n",
      "\n",
      "   happiness       0.75      0.47      0.58       954\n",
      "     sadness       0.75      0.91      0.82      1625\n",
      "\n",
      "    accuracy                           0.75      2579\n",
      "   macro avg       0.75      0.69      0.70      2579\n",
      "weighted avg       0.75      0.75      0.73      2579\n",
      "\n",
      "Accuracy for XGBoost is 0.7754943776657619\n",
      "              precision    recall  f1-score   support\n",
      "\n",
      "   happiness       0.73      0.63      0.67       954\n",
      "     sadness       0.80      0.86      0.83      1625\n",
      "\n",
      "    accuracy                           0.78      2579\n",
      "   macro avg       0.76      0.74      0.75      2579\n",
      "weighted avg       0.77      0.78      0.77      2579\n",
      "\n",
      "Accuracy for AdaBoost is 0.7487398216362932\n",
      "              precision    recall  f1-score   support\n",
      "\n",
      "   happiness       0.67      0.63      0.65       954\n",
      "     sadness       0.79      0.82      0.80      1625\n",
      "\n",
      "    accuracy                           0.75      2579\n",
      "   macro avg       0.73      0.72      0.73      2579\n",
      "weighted avg       0.75      0.75      0.75      2579\n",
      "\n"
     ]
    }
   ],
   "source": [
    "model_report(train_features,test_features,y_train,y_test)"
   ]
  },
  {
   "cell_type": "code",
   "execution_count": 29,
   "metadata": {},
   "outputs": [],
   "source": [
    "clf = MLPClassifier(hidden_layer_sizes=(300,100,200), max_iter=500, alpha=0.0001,learning_rate = 'constant',\n",
    "                     solver='sgd', verbose=10,  random_state=21,tol=0.000000001)"
   ]
  },
  {
   "cell_type": "code",
   "execution_count": 30,
   "metadata": {
    "scrolled": true
   },
   "outputs": [
    {
     "name": "stdout",
     "output_type": "stream",
     "text": [
      "Iteration 1, loss = 0.67937609\n",
      "Iteration 2, loss = 0.66696237\n",
      "Iteration 3, loss = 0.65963456\n",
      "Iteration 4, loss = 0.65264853\n",
      "Iteration 5, loss = 0.64514519\n",
      "Iteration 6, loss = 0.63737166\n",
      "Iteration 7, loss = 0.62917268\n",
      "Iteration 8, loss = 0.61935963\n",
      "Iteration 9, loss = 0.60957862\n",
      "Iteration 10, loss = 0.59828176\n",
      "Iteration 11, loss = 0.58640105\n",
      "Iteration 12, loss = 0.57461217\n",
      "Iteration 13, loss = 0.56384819\n",
      "Iteration 14, loss = 0.55201479\n",
      "Iteration 15, loss = 0.54135923\n",
      "Iteration 16, loss = 0.53123548\n",
      "Iteration 17, loss = 0.52167008\n",
      "Iteration 18, loss = 0.51303645\n",
      "Iteration 19, loss = 0.50473953\n",
      "Iteration 20, loss = 0.49734347\n",
      "Iteration 21, loss = 0.49119361\n",
      "Iteration 22, loss = 0.48490006\n",
      "Iteration 23, loss = 0.47935217\n",
      "Iteration 24, loss = 0.47407832\n",
      "Iteration 25, loss = 0.46896600\n",
      "Iteration 26, loss = 0.46502453\n",
      "Iteration 27, loss = 0.46218591\n",
      "Iteration 28, loss = 0.45776511\n",
      "Iteration 29, loss = 0.45486028\n",
      "Iteration 30, loss = 0.45113339\n",
      "Iteration 31, loss = 0.44895406\n",
      "Iteration 32, loss = 0.44549641\n",
      "Iteration 33, loss = 0.44405902\n",
      "Iteration 34, loss = 0.44145969\n",
      "Iteration 35, loss = 0.43875283\n",
      "Iteration 36, loss = 0.43650083\n",
      "Iteration 37, loss = 0.43530969\n",
      "Iteration 38, loss = 0.43512867\n",
      "Iteration 39, loss = 0.43185866\n",
      "Iteration 40, loss = 0.43000855\n",
      "Iteration 41, loss = 0.42838375\n",
      "Iteration 42, loss = 0.42662006\n",
      "Iteration 43, loss = 0.42515787\n",
      "Iteration 44, loss = 0.42338767\n",
      "Iteration 45, loss = 0.42177466\n",
      "Iteration 46, loss = 0.42013246\n",
      "Iteration 47, loss = 0.41900550\n",
      "Iteration 48, loss = 0.41877190\n",
      "Iteration 49, loss = 0.41761858\n",
      "Iteration 50, loss = 0.41611612\n",
      "Iteration 51, loss = 0.41418196\n",
      "Iteration 52, loss = 0.41201412\n",
      "Iteration 53, loss = 0.41221096\n",
      "Iteration 54, loss = 0.41027871\n",
      "Iteration 55, loss = 0.40956998\n",
      "Iteration 56, loss = 0.40799639\n",
      "Iteration 57, loss = 0.40727123\n",
      "Iteration 58, loss = 0.40727882\n",
      "Iteration 59, loss = 0.40541357\n",
      "Iteration 60, loss = 0.40355918\n",
      "Iteration 61, loss = 0.40373168\n",
      "Iteration 62, loss = 0.40311246\n",
      "Iteration 63, loss = 0.40051567\n",
      "Iteration 64, loss = 0.39971575\n",
      "Iteration 65, loss = 0.39935229\n",
      "Iteration 66, loss = 0.39762636\n",
      "Iteration 67, loss = 0.39700663\n",
      "Iteration 68, loss = 0.39614428\n",
      "Iteration 69, loss = 0.39465138\n",
      "Iteration 70, loss = 0.39323092\n",
      "Iteration 71, loss = 0.39343983\n",
      "Iteration 72, loss = 0.39085582\n",
      "Iteration 73, loss = 0.39080670\n",
      "Iteration 74, loss = 0.38904749\n",
      "Iteration 75, loss = 0.38951082\n",
      "Iteration 76, loss = 0.38783164\n",
      "Iteration 77, loss = 0.38802713\n",
      "Iteration 78, loss = 0.38656152\n",
      "Iteration 79, loss = 0.38576997\n",
      "Iteration 80, loss = 0.38379748\n",
      "Iteration 81, loss = 0.38300824\n",
      "Iteration 82, loss = 0.38343160\n",
      "Iteration 83, loss = 0.38226652\n",
      "Iteration 84, loss = 0.38038273\n",
      "Iteration 85, loss = 0.37896220\n",
      "Iteration 86, loss = 0.38004184\n",
      "Iteration 87, loss = 0.37756909\n",
      "Iteration 88, loss = 0.37574157\n",
      "Iteration 89, loss = 0.37586966\n",
      "Iteration 90, loss = 0.37414199\n",
      "Iteration 91, loss = 0.37250479\n",
      "Iteration 92, loss = 0.37478248\n",
      "Iteration 93, loss = 0.37191309\n",
      "Iteration 94, loss = 0.37032657\n",
      "Iteration 95, loss = 0.37132990\n",
      "Iteration 96, loss = 0.36882500\n",
      "Iteration 97, loss = 0.36878843\n",
      "Iteration 98, loss = 0.36628468\n",
      "Iteration 99, loss = 0.36575221\n",
      "Iteration 100, loss = 0.36585699\n",
      "Iteration 101, loss = 0.36372907\n",
      "Iteration 102, loss = 0.36377471\n",
      "Iteration 103, loss = 0.36084406\n",
      "Iteration 104, loss = 0.36319588\n",
      "Iteration 105, loss = 0.36041714\n",
      "Iteration 106, loss = 0.35904273\n",
      "Iteration 107, loss = 0.35819156\n",
      "Iteration 108, loss = 0.35956702\n",
      "Iteration 109, loss = 0.35618821\n",
      "Iteration 110, loss = 0.35647653\n",
      "Iteration 111, loss = 0.35495211\n",
      "Iteration 112, loss = 0.35201986\n",
      "Iteration 113, loss = 0.35311848\n",
      "Iteration 114, loss = 0.34996773\n",
      "Iteration 115, loss = 0.34926190\n",
      "Iteration 116, loss = 0.35290027\n",
      "Iteration 117, loss = 0.34753101\n",
      "Iteration 118, loss = 0.35241247\n",
      "Iteration 119, loss = 0.34775228\n",
      "Iteration 120, loss = 0.34530387\n",
      "Iteration 121, loss = 0.34581535\n",
      "Iteration 122, loss = 0.34131559\n",
      "Iteration 123, loss = 0.34221028\n",
      "Iteration 124, loss = 0.34010470\n",
      "Iteration 125, loss = 0.34012234\n",
      "Iteration 126, loss = 0.34086194\n",
      "Iteration 127, loss = 0.33784760\n",
      "Iteration 128, loss = 0.33718878\n",
      "Iteration 129, loss = 0.33728701\n",
      "Iteration 130, loss = 0.33483781\n",
      "Iteration 131, loss = 0.33495959\n",
      "Iteration 132, loss = 0.33272307\n",
      "Iteration 133, loss = 0.33211584\n",
      "Iteration 134, loss = 0.32853566\n",
      "Iteration 135, loss = 0.32716771\n",
      "Iteration 136, loss = 0.32824028\n",
      "Iteration 137, loss = 0.32643752\n",
      "Iteration 138, loss = 0.32491593\n",
      "Iteration 139, loss = 0.32426459\n",
      "Iteration 140, loss = 0.32244602\n",
      "Iteration 141, loss = 0.32854242\n",
      "Iteration 142, loss = 0.32667409\n",
      "Iteration 143, loss = 0.31940987\n",
      "Iteration 144, loss = 0.32030303\n",
      "Iteration 145, loss = 0.31720491\n",
      "Iteration 146, loss = 0.31545654\n",
      "Iteration 147, loss = 0.31948648\n",
      "Iteration 148, loss = 0.32150176\n",
      "Iteration 149, loss = 0.31216721\n",
      "Iteration 150, loss = 0.31248694\n",
      "Iteration 151, loss = 0.31232515\n",
      "Iteration 152, loss = 0.31079432\n",
      "Iteration 153, loss = 0.30607388\n",
      "Iteration 154, loss = 0.30485257\n",
      "Iteration 155, loss = 0.30698292\n",
      "Iteration 156, loss = 0.30855658\n",
      "Iteration 157, loss = 0.30728318\n",
      "Iteration 158, loss = 0.30709622\n",
      "Iteration 159, loss = 0.29962172\n",
      "Iteration 160, loss = 0.29923280\n",
      "Iteration 161, loss = 0.29628898\n",
      "Iteration 162, loss = 0.30028619\n",
      "Iteration 163, loss = 0.30082622\n",
      "Iteration 164, loss = 0.29486840\n",
      "Iteration 165, loss = 0.29399334\n",
      "Iteration 166, loss = 0.29118600\n",
      "Iteration 167, loss = 0.29096593\n",
      "Iteration 168, loss = 0.29590055\n",
      "Iteration 169, loss = 0.28512863\n",
      "Iteration 170, loss = 0.28914822\n",
      "Iteration 171, loss = 0.28241634\n",
      "Iteration 172, loss = 0.28312682\n",
      "Iteration 173, loss = 0.28448207\n",
      "Iteration 174, loss = 0.28152494\n",
      "Iteration 175, loss = 0.29365755\n",
      "Iteration 176, loss = 0.28230157\n",
      "Iteration 177, loss = 0.27651835\n",
      "Iteration 178, loss = 0.27475963\n",
      "Iteration 179, loss = 0.27773400\n",
      "Iteration 180, loss = 0.27064309\n",
      "Iteration 181, loss = 0.27093820\n",
      "Iteration 182, loss = 0.27485210\n",
      "Iteration 183, loss = 0.27580835\n",
      "Iteration 184, loss = 0.26684983\n",
      "Iteration 185, loss = 0.27076574\n",
      "Iteration 186, loss = 0.26496586\n",
      "Iteration 187, loss = 0.26419187\n",
      "Iteration 188, loss = 0.26346753\n",
      "Iteration 189, loss = 0.26619599\n",
      "Iteration 190, loss = 0.25999306\n",
      "Iteration 191, loss = 0.27312780\n",
      "Iteration 192, loss = 0.25655959\n",
      "Iteration 193, loss = 0.25288925\n",
      "Iteration 194, loss = 0.26313660\n",
      "Iteration 195, loss = 0.25445477\n",
      "Iteration 196, loss = 0.24558642\n",
      "Iteration 197, loss = 0.25484376\n",
      "Iteration 198, loss = 0.25505235\n",
      "Iteration 199, loss = 0.24753441\n",
      "Iteration 200, loss = 0.27461661\n",
      "Iteration 201, loss = 0.26971767\n",
      "Iteration 202, loss = 0.24476544\n",
      "Iteration 203, loss = 0.24772310\n",
      "Iteration 204, loss = 0.23800089\n",
      "Iteration 205, loss = 0.24512221\n",
      "Iteration 206, loss = 0.25048777\n",
      "Iteration 207, loss = 0.24183762\n",
      "Iteration 208, loss = 0.23288142\n",
      "Iteration 209, loss = 0.25094692\n",
      "Iteration 210, loss = 0.23375967\n",
      "Iteration 211, loss = 0.26490178\n",
      "Iteration 212, loss = 0.24314604\n",
      "Iteration 213, loss = 0.22979078\n",
      "Iteration 214, loss = 0.22199091\n",
      "Iteration 215, loss = 0.25051175\n",
      "Iteration 216, loss = 0.21021191\n",
      "Iteration 217, loss = 0.22602365\n",
      "Iteration 218, loss = 0.22599638\n",
      "Iteration 219, loss = 0.22968990\n",
      "Iteration 220, loss = 0.21785356\n",
      "Iteration 221, loss = 0.23476481\n",
      "Iteration 222, loss = 0.22065258\n",
      "Iteration 223, loss = 0.21324119\n",
      "Iteration 224, loss = 0.20755640\n",
      "Iteration 225, loss = 0.24407806\n",
      "Iteration 226, loss = 0.26925357\n",
      "Iteration 227, loss = 0.24836850\n",
      "Iteration 228, loss = 0.19563920\n",
      "Iteration 229, loss = 0.19387080\n",
      "Iteration 230, loss = 0.27424046\n",
      "Iteration 231, loss = 0.22139103\n",
      "Iteration 232, loss = 0.21488916\n",
      "Iteration 233, loss = 0.21606435\n",
      "Iteration 234, loss = 0.19924337\n",
      "Iteration 235, loss = 0.25211329\n",
      "Iteration 236, loss = 0.20471388\n",
      "Iteration 237, loss = 0.21198430\n",
      "Iteration 238, loss = 0.18761588\n",
      "Iteration 239, loss = 0.18194876\n",
      "Iteration 240, loss = 0.20604279\n",
      "Iteration 241, loss = 0.21948350\n",
      "Iteration 242, loss = 0.21993772\n",
      "Iteration 243, loss = 0.17934861\n",
      "Iteration 244, loss = 0.25838583\n",
      "Iteration 245, loss = 0.21247061\n",
      "Iteration 246, loss = 0.19667163\n",
      "Iteration 247, loss = 0.19839979\n",
      "Iteration 248, loss = 0.23172773\n",
      "Iteration 249, loss = 0.19816374\n",
      "Iteration 250, loss = 0.20244520\n",
      "Iteration 251, loss = 0.18848007\n",
      "Iteration 252, loss = 0.17485868\n"
     ]
    },
    {
     "name": "stdout",
     "output_type": "stream",
     "text": [
      "Iteration 253, loss = 0.16676733\n",
      "Iteration 254, loss = 0.17930553\n",
      "Iteration 255, loss = 0.18092633\n",
      "Iteration 256, loss = 0.19357449\n",
      "Iteration 257, loss = 0.17385255\n",
      "Iteration 258, loss = 0.16646189\n",
      "Iteration 259, loss = 0.14856671\n",
      "Iteration 260, loss = 0.27525059\n",
      "Iteration 261, loss = 0.27547919\n",
      "Iteration 262, loss = 0.16035657\n",
      "Iteration 263, loss = 0.15665774\n",
      "Iteration 264, loss = 0.14978460\n",
      "Iteration 265, loss = 0.18116579\n",
      "Iteration 266, loss = 0.14889722\n",
      "Iteration 267, loss = 0.17265491\n",
      "Iteration 268, loss = 0.15443814\n",
      "Iteration 269, loss = 0.16296126\n",
      "Iteration 270, loss = 0.16138167\n",
      "Training loss did not improve more than tol=0.000000 for 10 consecutive epochs. Stopping.\n"
     ]
    }
   ],
   "source": [
    "clf.fit(train_features, y_train)\n",
    "y_pred = clf.predict(test_features)"
   ]
  },
  {
   "cell_type": "code",
   "execution_count": 31,
   "metadata": {},
   "outputs": [
    {
     "data": {
      "text/plain": [
       "0.7805350911205894"
      ]
     },
     "execution_count": 31,
     "metadata": {},
     "output_type": "execute_result"
    }
   ],
   "source": [
    "accuracy_score(y_test, y_pred)"
   ]
  },
  {
   "cell_type": "code",
   "execution_count": null,
   "metadata": {},
   "outputs": [],
   "source": []
  }
 ],
 "metadata": {
  "kernelspec": {
   "display_name": "Python 3",
   "language": "python",
   "name": "python3"
  },
  "language_info": {
   "codemirror_mode": {
    "name": "ipython",
    "version": 3
   },
   "file_extension": ".py",
   "mimetype": "text/x-python",
   "name": "python",
   "nbconvert_exporter": "python",
   "pygments_lexer": "ipython3",
   "version": "3.7.5"
  }
 },
 "nbformat": 4,
 "nbformat_minor": 2
}
